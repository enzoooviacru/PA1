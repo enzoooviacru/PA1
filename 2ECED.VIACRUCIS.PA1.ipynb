{
 "cells": [
  {
   "cell_type": "markdown",
   "id": "f29dac18-1f33-4d72-b669-6e560b371e25",
   "metadata": {},
   "source": [
    "# ALPHABET SOUP PROBLEM"
   ]
  },
  {
   "cell_type": "code",
   "execution_count": 2,
   "id": "638782fa-095e-45dc-94b7-d2e91f4d3784",
   "metadata": {},
   "outputs": [
    {
     "name": "stdin",
     "output_type": "stream",
     "text": [
      "Give me a word:  alphabet\n"
     ]
    },
    {
     "name": "stdout",
     "output_type": "stream",
     "text": [
      "The string in alphabetical order is:  aabehlpt\n"
     ]
    }
   ],
   "source": [
    "#Creating a function what will arrange the user input \"x\" alphabetically\n",
    "def alphabet_soup(x):\n",
    "    return \"\".join(sorted(x))\n",
    "\n",
    "#Asking for a user input which will be arranged alphabetically\n",
    "#.lower() is for lowercasing all uppercase inputs of the user\n",
    "x = input(\"Give me a word: \").lower()\n",
    "\n",
    "#Assigning a variable for the function\n",
    "y = alphabet_soup(x)\n",
    "\n",
    "#Printing the sorted string\n",
    "print(\"The string in alphabetical order is: \", y)"
   ]
  },
  {
   "cell_type": "markdown",
   "id": "2cdbcd15-a099-440a-919e-61350e62c243",
   "metadata": {},
   "source": [
    "# EMOTICON PROBLEM"
   ]
  },
  {
   "cell_type": "code",
   "execution_count": 5,
   "id": "0a1d1470-cc76-4d8a-8868-016b44e29392",
   "metadata": {},
   "outputs": [
    {
     "name": "stdin",
     "output_type": "stream",
     "text": [
      "Write a sentence with smile, grin, sad, and mad:  i am mad and sad\n"
     ]
    },
    {
     "name": "stdout",
     "output_type": "stream",
     "text": [
      "i am >:( and :((\n"
     ]
    }
   ],
   "source": [
    "#Creating a function that will change the given words into their corresponding emoticon\n",
    "#Using multiple if statements instead of elif so that the function will convert all given words to their corresponding emoticon\n",
    "#instead of stopping at the first conversion\n",
    "def emotify(x):\n",
    "    if \"smile\" in x:\n",
    "        x = x.replace(\"smile\", \":)\") \n",
    "    if \"grin\" in x:\n",
    "        x = x.replace(\"grin\", \":D\")\n",
    "    if \"sad\" in x:\n",
    "        x = x.replace(\"sad\", \":((\")\n",
    "    if \"mad\" in x:\n",
    "        x = x.replace(\"mad\", \">:(\")\n",
    "    return x\n",
    "\n",
    "#Asking for a user input with the given words\n",
    "x = input(\"Write a sentence with smile, grin, sad, and mad: \")\n",
    "\n",
    "#Printing the user input but changed the given words to emoticons\n",
    "print(emotify(x))"
   ]
  },
  {
   "cell_type": "markdown",
   "id": "d77ad509-2e5a-4a7e-935f-222db6b6ffee",
   "metadata": {},
   "source": [
    "# UNPACKING LIST PROBLEM"
   ]
  },
  {
   "cell_type": "code",
   "execution_count": 8,
   "id": "4b105e88-c992-4be5-80f2-0cf8f6a756a5",
   "metadata": {},
   "outputs": [
    {
     "name": "stdout",
     "output_type": "stream",
     "text": [
      "first:  1\n",
      "middle:  [2, 3, 4, 5]\n",
      "last:  6\n"
     ]
    }
   ],
   "source": [
    "#Defining list \"writeyourcodehere\"\n",
    "writeyourcodehere = [1, 2, 3, 4, 5, 6]\n",
    "\n",
    "#Unpacking list into the first element, last element, and all the other elements in their own lists.\n",
    "#The asterisk operator separates all the other elements of the original list from the first and last element\n",
    "first, *middle, last = writeyourcodehere\n",
    "\n",
    "#Printing the elements in their respective lists\n",
    "print(\"first: \", first)\n",
    "print(\"middle: \", middle)\n",
    "print(\"last: \", last)"
   ]
  },
  {
   "cell_type": "code",
   "execution_count": null,
   "id": "85d9fc93-20e6-4adb-b1bf-b7542865934c",
   "metadata": {},
   "outputs": [],
   "source": []
  }
 ],
 "metadata": {
  "kernelspec": {
   "display_name": "Python 3 (ipykernel)",
   "language": "python",
   "name": "python3"
  },
  "language_info": {
   "codemirror_mode": {
    "name": "ipython",
    "version": 3
   },
   "file_extension": ".py",
   "mimetype": "text/x-python",
   "name": "python",
   "nbconvert_exporter": "python",
   "pygments_lexer": "ipython3",
   "version": "3.12.4"
  }
 },
 "nbformat": 4,
 "nbformat_minor": 5
}
